{
 "cells": [
  {
   "cell_type": "code",
   "execution_count": 2,
   "metadata": {},
   "outputs": [],
   "source": [
    "import time"
   ]
  },
  {
   "cell_type": "code",
   "execution_count": 3,
   "metadata": {},
   "outputs": [
    {
     "name": "stdout",
     "output_type": "stream",
     "text": [
      "Starting data stream processing....\n"
     ]
    }
   ],
   "source": [
    "simualated_stream = [\"record1\", \"record2\", \"record3\", \"record4\", \"STOP\", \"record5\"]\n",
    "print(\"Starting data stream processing....\")"
   ]
  },
  {
   "cell_type": "code",
   "execution_count": 5,
   "metadata": {},
   "outputs": [
    {
     "name": "stdout",
     "output_type": "stream",
     "text": [
      "Processed: record1\n",
      "Processed: record2\n",
      "Processed: record3\n",
      "Processed: record4\n",
      "STOP signal encountered. Ending stream processing.\n",
      "Data stream processing completed. Have a nice day\n"
     ]
    }
   ],
   "source": [
    "for record in simualated_stream:\n",
    "    if record == \"STOP\":\n",
    "        print(\"STOP signal encountered. Ending stream processing.\")\n",
    "        break\n",
    "    print(f\"Processed: {record}\")\n",
    "    time.sleep(1)\n",
    "    \n",
    "\n",
    "print(\"Data stream processing completed. Have a nice day\")"
   ]
  }
 ],
 "metadata": {
  "kernelspec": {
   "display_name": ".venv",
   "language": "python",
   "name": "python3"
  },
  "language_info": {
   "codemirror_mode": {
    "name": "ipython",
    "version": 3
   },
   "file_extension": ".py",
   "mimetype": "text/x-python",
   "name": "python",
   "nbconvert_exporter": "python",
   "pygments_lexer": "ipython3",
   "version": "3.12.5"
  }
 },
 "nbformat": 4,
 "nbformat_minor": 2
}
