{
 "cells": [
  {
   "cell_type": "code",
   "execution_count": 2,
   "metadata": {},
   "outputs": [
    {
     "data": {
      "text/plain": [
       "[0, 1, 2, 3, 4, 5, 6, 7, 8, 9]"
      ]
     },
     "execution_count": 2,
     "metadata": {},
     "output_type": "execute_result"
    }
   ],
   "source": [
    "example_list = list(range(10))\n",
    "example_list_none = list(range(10)) + [None]\n",
    "example_list_large = list(range(2910))\n",
    "example_list"
   ]
  },
  {
   "cell_type": "code",
   "execution_count": 22,
   "metadata": {},
   "outputs": [
    {
     "data": {
      "text/plain": [
       "[0, 1, 2, 3, 4, 5, 6, 7, 8, 9, None]"
      ]
     },
     "execution_count": 22,
     "metadata": {},
     "output_type": "execute_result"
    }
   ],
   "source": [
    "example_list_none"
   ]
  },
  {
   "cell_type": "code",
   "execution_count": 24,
   "metadata": {},
   "outputs": [
    {
     "data": {
      "text/plain": [
       "True"
      ]
     },
     "execution_count": 24,
     "metadata": {},
     "output_type": "execute_result"
    }
   ],
   "source": [
    "len(example_list) == 10"
   ]
  },
  {
   "cell_type": "code",
   "execution_count": 26,
   "metadata": {},
   "outputs": [
    {
     "data": {
      "text/plain": [
       "(False, True)"
      ]
     },
     "execution_count": 26,
     "metadata": {},
     "output_type": "execute_result"
    }
   ],
   "source": [
    "None in example_list, None in example_list_none"
   ]
  },
  {
   "cell_type": "code",
   "execution_count": null,
   "metadata": {},
   "outputs": [
    {
     "name": "stdout",
     "output_type": "stream",
     "text": [
      "Woho!\n"
     ]
    }
   ],
   "source": [
    "if len(example_list) == 10 and None not in example_list:\n",
    "    print(\"Woho!\")\n",
    "\n",
    "if len(example_list_none) == 10 and None not in example_list:\n",
    "    print(\"Woho!\")\n",
    "\n",
    "if len(example_list_large) == 10 and None not in example_list:\n",
    "    print(\"Woho!\")"
   ]
  },
  {
   "cell_type": "code",
   "execution_count": 3,
   "metadata": {},
   "outputs": [
    {
     "name": "stdout",
     "output_type": "stream",
     "text": [
      "\n",
      "                         Your list must have 10 elements and not contain None. \n",
      "                         Length of your list length 2910. None in list: False\n",
      "                         \n"
     ]
    }
   ],
   "source": [
    "def quality_check(list_):\n",
    "    if len(list_) != 10 or None in list_:\n",
    "        raise ValueError(f\"\"\"\n",
    "                         Your list must have 10 elements and not contain None. \n",
    "                         Length of your list length {len(list_)}. None in list: {None in list_}\n",
    "                         \"\"\")\n",
    "\n",
    "    print(\"Your list contains no Nones and have length 10\")\n",
    "\n",
    "try:\n",
    "    quality_check(example_list_large)\n",
    "except ValueError as err:\n",
    "    print(err)\n"
   ]
  },
  {
   "cell_type": "code",
   "execution_count": 57,
   "metadata": {},
   "outputs": [
    {
     "name": "stdout",
     "output_type": "stream",
     "text": [
      "\n",
      "                         Your list must have 10 elements and not contain None. \n",
      "                         Length of your list length 2910. None in list: False\n",
      "                         \n"
     ]
    }
   ],
   "source": [
    "try:\n",
    "    quality_check(example_list_large)\n",
    "except ValueError as err:\n",
    "    print(err)"
   ]
  },
  {
   "cell_type": "code",
   "execution_count": 71,
   "metadata": {},
   "outputs": [
    {
     "name": "stdout",
     "output_type": "stream",
     "text": [
      "Your list contains no Nones and have length 10\n"
     ]
    }
   ],
   "source": [
    "quality_check(example_list)"
   ]
  }
 ],
 "metadata": {
  "kernelspec": {
   "display_name": ".venv",
   "language": "python",
   "name": "python3"
  },
  "language_info": {
   "codemirror_mode": {
    "name": "ipython",
    "version": 3
   },
   "file_extension": ".py",
   "mimetype": "text/x-python",
   "name": "python",
   "nbconvert_exporter": "python",
   "pygments_lexer": "ipython3",
   "version": "3.12.5"
  }
 },
 "nbformat": 4,
 "nbformat_minor": 2
}
