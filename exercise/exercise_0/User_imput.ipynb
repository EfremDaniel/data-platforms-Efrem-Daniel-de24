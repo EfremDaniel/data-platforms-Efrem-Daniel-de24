{
 "cells": [
  {
   "cell_type": "code",
   "execution_count": 5,
   "metadata": {},
   "outputs": [
    {
     "name": "stdout",
     "output_type": "stream",
     "text": [
      "Source: /efrem_27/@Efrems-MacBook-Air/exercise_0\n",
      "Destination: /efrem_27/@Efrems-MacBook-Air/exercise_0 \n"
     ]
    }
   ],
   "source": [
    "\n",
    "input_source = input(\"Enter the source directory \")\n",
    "input_destination = input(\"Enter: source destination \")\n",
    " \n",
    "#/efrem_27/@Efrems-MacBook-Air/exercise_0\n",
    "#/efrem_27/@Efrems-MacBook-Air/exercise_0 \n",
    " \n",
    "\n",
    "print(f\"Source: {input_source}\")\n",
    "print(f\"Destination: {input_destination}\")"
   ]
  }
 ],
 "metadata": {
  "kernelspec": {
   "display_name": ".venv",
   "language": "python",
   "name": "python3"
  },
  "language_info": {
   "codemirror_mode": {
    "name": "ipython",
    "version": 3
   },
   "file_extension": ".py",
   "mimetype": "text/x-python",
   "name": "python",
   "nbconvert_exporter": "python",
   "pygments_lexer": "ipython3",
   "version": "3.12.5"
  }
 },
 "nbformat": 4,
 "nbformat_minor": 2
}
