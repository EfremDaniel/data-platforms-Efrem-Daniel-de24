{
 "cells": [
  {
   "cell_type": "code",
   "execution_count": 66,
   "metadata": {},
   "outputs": [
    {
     "data": {
      "text/plain": [
       "['2024-06-01 09:00:00 | Source: 10.0.0.1 | Destination: 10.0.0.2 | Protocol: TCP | Bytes: 1024\\n',\n",
       " '2024-06-01 09:05:00 | Source: 10.0.0.2 | Destination: 10.0.0.3 | Protocol: UDP | Bytes: 2048\\n',\n",
       " '2024-06-01 09:10:00 | Source: 10.0.0.3 | Destination: 10.0.0.1 | Protocol: TCP | Bytes: 512\\n']"
      ]
     },
     "execution_count": 66,
     "metadata": {},
     "output_type": "execute_result"
    }
   ],
   "source": [
    "with open(\"data/network.log\") as logs:\n",
    "    logs = logs.readlines()\n",
    "\n",
    "logs"
   ]
  },
  {
   "cell_type": "code",
   "execution_count": 90,
   "metadata": {},
   "outputs": [
    {
     "data": {
      "text/plain": [
       "['1024', '2048', ' 512']"
      ]
     },
     "execution_count": 90,
     "metadata": {},
     "output_type": "execute_result"
    }
   ],
   "source": [
    "protocols = [log.split(\"|\")[-2][-4:-1] for log in logs]\n",
    "bytes = [log.split(\"|\")[-1][-5:-1] for log in logs]\n",
    "bytes"
   ]
  },
  {
   "cell_type": "code",
   "execution_count": 91,
   "metadata": {},
   "outputs": [
    {
     "data": {
      "text/plain": [
       "defaultdict(int, {'TCP': 1536, 'UDP': 2048})"
      ]
     },
     "execution_count": 91,
     "metadata": {},
     "output_type": "execute_result"
    }
   ],
   "source": [
    "# from collections import defaultdict\n",
    "\n",
    "# network_data = defaultdict(int)\n",
    "\n",
    "# for protocol, byte in zip(protocols, bytes):\n",
    "#     network_data[protocol] += int(byte)\n",
    "\n",
    "# network_data"
   ]
  },
  {
   "cell_type": "code",
   "execution_count": 93,
   "metadata": {},
   "outputs": [
    {
     "data": {
      "text/plain": [
       "defaultdict(int, {'TCP': 1536, 'UDP': 2048})"
      ]
     },
     "execution_count": 93,
     "metadata": {},
     "output_type": "execute_result"
    }
   ],
   "source": [
    "from collections import defaultdict\n",
    "\n",
    "network_data = defaultdict(int)\n",
    "\n",
    "for protocol, byte in zip(protocols, bytes):\n",
    "    network_data[protocol] += int(byte)\n",
    "\n",
    "network_data\n",
    "\n",
    "\n"
   ]
  }
 ],
 "metadata": {
  "kernelspec": {
   "display_name": ".venv",
   "language": "python",
   "name": "python3"
  },
  "language_info": {
   "codemirror_mode": {
    "name": "ipython",
    "version": 3
   },
   "file_extension": ".py",
   "mimetype": "text/x-python",
   "name": "python",
   "nbconvert_exporter": "python",
   "pygments_lexer": "ipython3",
   "version": "3.12.5"
  }
 },
 "nbformat": 4,
 "nbformat_minor": 2
}
