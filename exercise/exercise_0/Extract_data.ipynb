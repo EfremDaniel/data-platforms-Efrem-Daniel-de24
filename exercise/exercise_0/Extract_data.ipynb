{
 "cells": [
  {
   "cell_type": "code",
   "execution_count": 19,
   "metadata": {},
   "outputs": [],
   "source": [
    "import re"
   ]
  },
  {
   "cell_type": "markdown",
   "metadata": {},
   "source": [
    "2024-06-01 09:00:00 | Source: 10.0.0.1 | Destination: 10.0.0.2 | Protocol: TCP | Bytes: 1024\n",
    "2024-06-01 09:05:00 | Source: 10.0.0.2 | Destination: 10.0.0.3 | Protocol: UDP | Bytes: 2048\n",
    "2024-06-01 09:10:00 | Source: 10.0.0.3 | Destination: 10.0.0.1 | Protocol: TCP | Bytes: 512"
   ]
  },
  {
   "cell_type": "code",
   "execution_count": 49,
   "metadata": {},
   "outputs": [
    {
     "name": "stderr",
     "output_type": "stream",
     "text": [
      "<>:1: SyntaxWarning: invalid escape sequence '\\d'\n",
      "<>:1: SyntaxWarning: invalid escape sequence '\\d'\n",
      "/var/folders/_6/t8g0_t_n1_9bcmhw9_c95wnc0000gn/T/ipykernel_22594/1640835990.py:1: SyntaxWarning: invalid escape sequence '\\d'\n",
      "  pattern = f'Source: (\\d+\\.\\d+\\.\\d+\\.\\d+) | Destination: (\\d+\\.\\d+\\.\\d+\\.\\d+) | Protocol: (\\w+) | Bytes: (\\d+)'\n"
     ]
    }
   ],
   "source": [
    "pattern = f'Source: (\\d+\\.\\d+\\.\\d+\\.\\d+) | Destination: (\\d+\\.\\d+\\.\\d+\\.\\d+) | Protocol: (\\w+) | Bytes: (\\d+)'"
   ]
  },
  {
   "cell_type": "markdown",
   "metadata": {},
   "source": [
    "2024-06-01 09:00:00 | Source: 10.0.0.1 | Destination: 10.0.0.2 | Protocol: TCP | Bytes: 1024\n",
    "2024-06-01 09:05:00 | Source: 10.0.0.2 | Destination: 10.0.0.3 | Protocol: UDP | Bytes: 2048\n",
    "2024-06-01 09:10:00 | Source: 10.0.0.3 | Destination: 10.0.0.1 | Protocol: TCP | Bytes: 512"
   ]
  },
  {
   "cell_type": "code",
   "execution_count": null,
   "metadata": {},
   "outputs": [],
   "source": []
  },
  {
   "cell_type": "code",
   "execution_count": 1,
   "metadata": {},
   "outputs": [
    {
     "name": "stdout",
     "output_type": "stream",
     "text": [
      "Source: 10.0.0.1 | Destination: 10.0.0.2 | Protocol: TCP | Bytes: 1024\n",
      "Source: 10.0.0.2 | Destination: 10.0.0.3 | Protocol: UDP | Bytes: 2048\n",
      "Source: 10.0.0.3 | Destination: 10.0.0.1 | Protocol: TCP | Bytes: 512\n"
     ]
    }
   ],
   "source": [
    "def extract_log_info(log_file_path):\n",
    "    with open(\"Data/network.log\", 'r') as file:\n",
    "        for line in file:\n",
    "            test= line.split(\"|\")[1:5]\n",
    "        \n",
    "            # match = re.search(pattern, test)\n",
    "            print(\"|\".join(test).strip())\n",
    "            \n",
    "\n",
    "\n",
    "extract_log_info(\"Data/network.log\")\n",
    "\n",
    "\n",
    "\n"
   ]
  }
 ],
 "metadata": {
  "kernelspec": {
   "display_name": ".venv",
   "language": "python",
   "name": "python3"
  },
  "language_info": {
   "codemirror_mode": {
    "name": "ipython",
    "version": 3
   },
   "file_extension": ".py",
   "mimetype": "text/x-python",
   "name": "python",
   "nbconvert_exporter": "python",
   "pygments_lexer": "ipython3",
   "version": "3.12.5"
  }
 },
 "nbformat": 4,
 "nbformat_minor": 2
}
