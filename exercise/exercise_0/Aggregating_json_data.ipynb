{
 "cells": [
  {
   "cell_type": "code",
   "execution_count": 1,
   "metadata": {},
   "outputs": [],
   "source": [
    "import json\n",
    "from collections import defaultdict\n",
    "from pathlib import Path as pt\n",
    "\n",
    "with open('data/paid.json', 'r') as file:\n",
    "    data = json.load(file)\n",
    "\n"
   ]
  },
  {
   "cell_type": "code",
   "execution_count": 2,
   "metadata": {},
   "outputs": [
    {
     "name": "stdout",
     "output_type": "stream",
     "text": [
      "{'name': 'Alice', 'paid': 100}\n",
      "{'name': 'Bob', 'paid': 200}\n",
      "{'name': 'Alice', 'paid': 150}\n",
      "{'name': 'Erik', 'paid': 180}\n",
      "{'name': 'Maja', 'paid': 220}\n",
      "{'name': 'Bob', 'paid': 180}\n",
      "{'name': 'Alice', 'paid': 130}\n",
      "{'name': 'Oskar', 'paid': 140}\n",
      "{'name': 'Elsa', 'paid': 170}\n",
      "{'name': 'Maja', 'paid': 250}\n",
      "{'name': 'Liam', 'paid': 210}\n",
      "{'name': 'Alice', 'paid': 190}\n",
      "{'name': 'Astrid', 'paid': 190}\n",
      "{'name': 'Elsa', 'paid': 150}\n",
      "{'name': 'Bob', 'paid': 120}\n",
      "{'name': 'Erik', 'paid': 200}\n",
      "{'name': 'Maja', 'paid': 180}\n",
      "{'name': 'Liam', 'paid': 170}\n",
      "{'name': 'Bob', 'paid': 140}\n",
      "{'name': 'Oskar', 'paid': 160}\n",
      "{'name': 'Freja', 'paid': 240}\n",
      "{'name': 'Hugo', 'paid': 250}\n",
      "{'name': 'Freja', 'paid': 200}\n",
      "{'name': 'Nils', 'paid': 130}\n",
      "{'name': 'Freja', 'paid': 180}\n",
      "{'name': 'Wilma', 'paid': 200}\n",
      "{'name': 'Alexander', 'paid': 260}\n",
      "{'name': 'Clara', 'paid': 280}\n",
      "{'name': 'Alice', 'paid': 175}\n",
      "{'name': 'Selma', 'paid': 175}\n",
      "{'name': 'Erik', 'paid': 190}\n",
      "{'name': 'Elias', 'paid': 190}\n"
     ]
    }
   ],
   "source": [
    "payment_totals = defaultdict(int)\n",
    "\n",
    "for entry in data:\n",
    "    name = entry['name'] \n",
    "    amount = entry['paid']  \n",
    "    payment_totals[name] += amount\n",
    "\n",
    "for entry in data:\n",
    "    print(entry)\n"
   ]
  },
  {
   "cell_type": "code",
   "execution_count": 3,
   "metadata": {},
   "outputs": [],
   "source": [
    "with open('payment_sum.json', 'w') as outfile:\n",
    "    json.dump(dict(payment_totals), outfile, indent=4)"
   ]
  }
 ],
 "metadata": {
  "kernelspec": {
   "display_name": ".venv",
   "language": "python",
   "name": "python3"
  },
  "language_info": {
   "codemirror_mode": {
    "name": "ipython",
    "version": 3
   },
   "file_extension": ".py",
   "mimetype": "text/x-python",
   "name": "python",
   "nbconvert_exporter": "python",
   "pygments_lexer": "ipython3",
   "version": "3.12.5"
  }
 },
 "nbformat": 4,
 "nbformat_minor": 2
}
