{
 "cells": [
  {
   "cell_type": "code",
   "execution_count": null,
   "metadata": {},
   "outputs": [],
   "source": [
    "import json\n",
    "from collections import defaultdict\n",
    "from pathlib import Path as pt\n",
    "\n",
    "with open('data/paid.json', 'r') as file:\n",
    "    data = json.load(file)\n",
    "\n"
   ]
  },
  {
   "cell_type": "code",
   "execution_count": null,
   "metadata": {},
   "outputs": [],
   "source": [
    "#Skapa en defaultdict med standardvärde 0\n",
    "payment_totals = defaultdict(int)\n",
    "\n",
    "# Iterera över varje post i data och ackumulera summan per namn\n",
    "for entry in data:\n",
    "    name = entry['name']  # Anta att vart entry har en nyckel 'name'\n",
    "    amount = entry['paid']  # Anta att vart entry har en nyckel 'amount'\n",
    "    payment_totals[name] += amount\n",
    "\n",
    "for entry in data:\n",
    "    print(entry)\n"
   ]
  },
  {
   "cell_type": "code",
   "execution_count": 21,
   "metadata": {},
   "outputs": [],
   "source": [
    "with open('payment_sum.json', 'w') as outfile:\n",
    "    json.dump(dict(payment_totals), outfile, indent=4)"
   ]
  }
 ],
 "metadata": {
  "kernelspec": {
   "display_name": ".venv",
   "language": "python",
   "name": "python3"
  },
  "language_info": {
   "codemirror_mode": {
    "name": "ipython",
    "version": 3
   },
   "file_extension": ".py",
   "mimetype": "text/x-python",
   "name": "python",
   "nbconvert_exporter": "python",
   "pygments_lexer": "ipython3",
   "version": "3.12.5"
  }
 },
 "nbformat": 4,
 "nbformat_minor": 2
}
