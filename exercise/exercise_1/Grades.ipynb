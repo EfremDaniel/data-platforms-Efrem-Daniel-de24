{
 "cells": [
  {
   "cell_type": "code",
   "execution_count": null,
   "metadata": {},
   "outputs": [
    {
     "data": {
      "text/plain": [
       "['Tabell 1A', 'Tabell 1B', 'Definitioner']"
      ]
     },
     "execution_count": 20,
     "metadata": {},
     "output_type": "execute_result"
    }
   ],
   "source": [
    "import pandas as pd\n",
    "import numpy as np\n",
    "import matplotlib as mpl\n",
    "sheet_name = pd.ExcelFile(\"Data/betyg_o_prov_riksnivå.xlsx\").sheet_names\n",
    "sheet_name\n"
   ]
  },
  {
   "cell_type": "code",
   "execution_count": 22,
   "metadata": {},
   "outputs": [
    {
     "data": {
      "text/html": [
       "<div>\n",
       "<style scoped>\n",
       "    .dataframe tbody tr th:only-of-type {\n",
       "        vertical-align: middle;\n",
       "    }\n",
       "\n",
       "    .dataframe tbody tr th {\n",
       "        vertical-align: top;\n",
       "    }\n",
       "\n",
       "    .dataframe thead th {\n",
       "        text-align: right;\n",
       "    }\n",
       "</style>\n",
       "<table border=\"1\" class=\"dataframe\">\n",
       "  <thead>\n",
       "    <tr style=\"text-align: right;\">\n",
       "      <th></th>\n",
       "      <th>Unnamed: 1_16</th>\n",
       "      <th>Unnamed: 2_16</th>\n",
       "      <th>Unnamed: 3_16</th>\n",
       "      <th>Totalt_17</th>\n",
       "      <th>Flickor_17</th>\n",
       "      <th>Pojkar_17</th>\n",
       "      <th>Totalt_andel_F</th>\n",
       "      <th>Flickor_andel_F</th>\n",
       "      <th>Pojkar_andel_F</th>\n",
       "    </tr>\n",
       "  </thead>\n",
       "  <tbody>\n",
       "    <tr>\n",
       "      <th>2018/19</th>\n",
       "      <td>112731.0</td>\n",
       "      <td>54667.0</td>\n",
       "      <td>58064.0</td>\n",
       "      <td>112280</td>\n",
       "      <td>54430</td>\n",
       "      <td>57850</td>\n",
       "      <td>110663</td>\n",
       "      <td>53757</td>\n",
       "      <td>56906</td>\n",
       "    </tr>\n",
       "    <tr>\n",
       "      <th>2019/20</th>\n",
       "      <td>115023.0</td>\n",
       "      <td>55670.0</td>\n",
       "      <td>59353.0</td>\n",
       "      <td>114444</td>\n",
       "      <td>55389</td>\n",
       "      <td>59055</td>\n",
       "      <td>112728</td>\n",
       "      <td>54711</td>\n",
       "      <td>58017</td>\n",
       "    </tr>\n",
       "    <tr>\n",
       "      <th>2020/21</th>\n",
       "      <td>116359.0</td>\n",
       "      <td>56715.0</td>\n",
       "      <td>59644.0</td>\n",
       "      <td>115710</td>\n",
       "      <td>56394</td>\n",
       "      <td>59316</td>\n",
       "      <td>114136</td>\n",
       "      <td>55721</td>\n",
       "      <td>58415</td>\n",
       "    </tr>\n",
       "    <tr>\n",
       "      <th>2021/22</th>\n",
       "      <td>120525.0</td>\n",
       "      <td>58513.0</td>\n",
       "      <td>62012.0</td>\n",
       "      <td>119891</td>\n",
       "      <td>58207</td>\n",
       "      <td>61684</td>\n",
       "      <td>117935</td>\n",
       "      <td>57312</td>\n",
       "      <td>60623</td>\n",
       "    </tr>\n",
       "    <tr>\n",
       "      <th>2022/23</th>\n",
       "      <td>121369.0</td>\n",
       "      <td>59043.0</td>\n",
       "      <td>62326.0</td>\n",
       "      <td>120742</td>\n",
       "      <td>58703</td>\n",
       "      <td>62039</td>\n",
       "      <td>118736</td>\n",
       "      <td>57781</td>\n",
       "      <td>60955</td>\n",
       "    </tr>\n",
       "  </tbody>\n",
       "</table>\n",
       "</div>"
      ],
      "text/plain": [
       "         Unnamed: 1_16  Unnamed: 2_16  Unnamed: 3_16 Totalt_17 Flickor_17  \\\n",
       "2018/19       112731.0        54667.0        58064.0    112280      54430   \n",
       "2019/20       115023.0        55670.0        59353.0    114444      55389   \n",
       "2020/21       116359.0        56715.0        59644.0    115710      56394   \n",
       "2021/22       120525.0        58513.0        62012.0    119891      58207   \n",
       "2022/23       121369.0        59043.0        62326.0    120742      58703   \n",
       "\n",
       "        Pojkar_17 Totalt_andel_F Flickor_andel_F Pojkar_andel_F  \n",
       "2018/19     57850         110663           53757          56906  \n",
       "2019/20     59055         112728           54711          58017  \n",
       "2020/21     59316         114136           55721          58415  \n",
       "2021/22     61684         117935           57312          60623  \n",
       "2022/23     62039         118736           57781          60955  "
      ]
     },
     "execution_count": 22,
     "metadata": {},
     "output_type": "execute_result"
    }
   ],
   "source": [
    "df = pd.read_excel(\"Data/betyg_o_prov_riksnivå.xlsx\", skiprows=9, index_col=0)\n",
    "postfixes = [\"_16\"]*3 + [\"_17\"]*3 + [\"_andel_F\"]*3\n",
    "\n",
    "df.columns = df.columns.str.replace(r\"\\.\\d+\", \"\", regex=True)\n",
    "df.columns = df.columns + np.array(postfixes)\n",
    "df_years = df.head()\n",
    "df_years"
   ]
  },
  {
   "cell_type": "code",
   "execution_count": 23,
   "metadata": {},
   "outputs": [
    {
     "data": {
      "text/plain": [
       "<Axes: >"
      ]
     },
     "execution_count": 23,
     "metadata": {},
     "output_type": "execute_result"
    },
    {
     "data": {
      "image/png": "[encoded data removed]",
      "text/plain": [
       "<Figure size 640x480 with 1 Axes>"
      ]
     },
     "metadata": {},
     "output_type": "display_data"
    }
   ],
   "source": [
    "df_years[[\"Totalt_andel_F\", \"Flickor_andel_F\", \"Pojkar_andel_F\"]].plot()"
   ]
  }
 ],
 "metadata": {
  "kernelspec": {
   "display_name": ".venv",
   "language": "python",
   "name": "python3"
  },
  "language_info": {
   "codemirror_mode": {
    "name": "ipython",
    "version": 3
   },
   "file_extension": ".py",
   "mimetype": "text/x-python",
   "name": "python",
   "nbconvert_exporter": "python",
   "pygments_lexer": "ipython3",
   "version": "3.12.5"
  }
 },
 "nbformat": 4,
 "nbformat_minor": 2
}
