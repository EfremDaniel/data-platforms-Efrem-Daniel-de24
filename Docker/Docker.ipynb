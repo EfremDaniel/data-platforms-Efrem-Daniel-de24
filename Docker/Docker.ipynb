{
 "cells": [
  {
   "cell_type": "markdown",
   "metadata": {},
   "source": [
    "# Docker"
   ]
  },
  {
   "cell_type": "markdown",
   "metadata": {},
   "source": [
    "## What is Docker"
   ]
  },
  {
   "cell_type": "markdown",
   "metadata": {},
   "source": [
    "#### Docker is a tool that you can pack your application and all its dependencies into a standardized unit called a container. Docker is a open-source operating system for containers to allow you to be in specific environments, to quickly deploy and scale applications into any environment and know your code will run.\n",
    "\n",
    "#### A docker container is like a small, virtual box that holds an application and everything it needs to run. This includes the application code, libraries, and system settings. Inside a container, you have an isolated environment that has all dependencies and software for an application, meaning you can run your code without worrying of the versions. \n",
    "#### Any installations that happens in the host-systen (your computer) it will not affect the inside of the container"
   ]
  },
  {
   "cell_type": "markdown",
   "metadata": {},
   "source": [
    "#### -------------------------------------------------------------------------------"
   ]
  },
  {
   "cell_type": "markdown",
   "metadata": {},
   "source": [
    "#### Why docker is popular:\n",
    "#### 1. Portability: Docker facilitates the developers in packaging their applications with all dependencies into a single lightweight containers. It facilities in ensuring the consistent performance across the different computing environments.\n",
    "\n",
    "#### 2. Reproducibility: Through encapsulating the applications with their dependencies within a container it ensures in software setups remaining consistent across the development, testing and production environments.\n",
    "\n",
    "#### 3. Efficiency: Docker through its container based architecture it optimizes the resource utilization. It allows the developers to run the multiple isolated applications on a single host system.\n",
    "\n",
    "#### 4. Scalability: Docker’s scalability features facilitated the developers in making easier of their applications handling at time of workloads increment"
   ]
  },
  {
   "cell_type": "markdown",
   "metadata": {},
   "source": [
    "#### -------------------------------------------------------------------------------"
   ]
  },
  {
   "cell_type": "markdown",
   "metadata": {},
   "source": [
    "## Key componets in Docker"
   ]
  },
  {
   "cell_type": "markdown",
   "metadata": {},
   "source": [
    "#### The following are the some of the key components of Docker:\n",
    "\n",
    "#### Docker Engine: It is a core part of docker, that handles the creation and management of containers.\n",
    "\n",
    "#### Docker Image: It is a read-only template that is used for creating containers, containing the application code and dependencies. \n",
    "\n",
    "#### Docker Hub: It is a cloud based repository that is used for finding and sharing the container images.\n",
    "\n",
    "#### Dockerfile: It is a script that containing instructions to build a docker image.\n",
    "\n",
    "#### Docker Registry : It is a storage distribution system for docker images, where you can store the images in both public and private modes."
   ]
  },
  {
   "cell_type": "markdown",
   "metadata": {},
   "source": [
    "#### -------------------------------------------------------------------------------"
   ]
  },
  {
   "cell_type": "markdown",
   "metadata": {},
   "source": [
    "## How to create an image to spin up a docker container"
   ]
  },
  {
   "cell_type": "markdown",
   "metadata": {},
   "source": [
    "####   DOCKERFILE --> builds --> DOCKER IMAGE --> spin up (create) --> DOCKER CONTAINERS\n",
    "\n",
    "####    1. Dockerfile: Instructions for generating a Docker image. Dockerfile will define the processes to quickly produce an image. \n",
    "####    2. Docker image: read-only template that is used for creating containers. A Docker image can be seen as a class in OOP, where it's a blue print for creating objects, which in this case are containers\n",
    "####    3. Docker container: Running instance of docker images"
   ]
  }
 ],
 "metadata": {
  "kernelspec": {
   "display_name": ".venv",
   "language": "python",
   "name": "python3"
  },
  "language_info": {
   "name": "python",
   "version": "3.12.5"
  }
 },
 "nbformat": 4,
 "nbformat_minor": 2
}
